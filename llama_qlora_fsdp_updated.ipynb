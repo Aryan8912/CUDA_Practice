{
 "cells": [
  {
   "cell_type": "markdown",
   "metadata": {},
   "source": [
    "# QLoRA Training with FSDP2 for Llama 3.1 8B\n",
    "\n",
    "This notebook demonstrates QLoRA training with FSDP2 on multiple GPUs using Meta-Llama-3.1-8B"
   ]
  },
  {
   "cell_type": "code",
   "execution_count": null,
   "metadata": {},
   "source": [
    "!pip install -q torch>=2.2.0 transformers>=4.36.0 accelerate>=0.26.0 bitsandbytes>=0.41.3 peft>=0.7.0 flash-attn>=2.5.0 datasets>=2.16.0 wandb>=0.16.0"
   ]
  },
  {
   "cell_type": "code",
   "execution_count": null,
   "metadata": {},
   "source": [
    "import os\n",
    "import torch\n",
    "import torch.nn as nn\n",
    "from dataclasses import dataclass, field\n",
    "from typing import Optional, Dict, Sequence\n",
    "from transformers import (\n",
    "    AutoModelForCausalLM,\n",
    "    AutoTokenizer,\n",
    "    HfArgumentParser,\n",
    "    TrainingArguments,\n",
    "    Trainer,\n",
    "    BitsAndBytesConfig,\n",
    "    LlamaConfig,\n",
    "    LlamaForCausalLM,\n",
    "    GenerationConfig\n",
    ")\n",
    "from peft import LoraConfig, get_peft_model, prepare_model_for_kbit_training\n",
    "from datasets import load_dataset\n",
    "import torch.distributed as dist\n",
    "from torch.distributed.fsdp import *\n",
    "from torch.distributed.fsdp.wrap import *\n",
    "from huggingface_hub import notebook_login\n",
    "from time import perf_counter"
   ]
  },
  {
   "cell_type": "code",
   "execution_count": null,
   "metadata": {},
   "source": [
    "# Login to HuggingFace\n",
    "notebook_login()"
   ]
  },
  {
   "cell_type": "code",
   "execution_count": null,
   "metadata": {},
   "source": [
    "# Model configuration\n",
    "model_id = \"meta-llama/Meta-Llama-3.1-8B\"\n",
    "\n",
    "def get_model_and_tokenizer(model_id):\n",
    "    tokenizer = AutoTokenizer.from_pretrained(model_id)\n",
    "    tokenizer.pad_token = tokenizer.eos_token\n",
    "    bnb_config = BitsAndBytesConfig(\n",
    "        load_in_4bit=True, \n",
    "        bnb_4bit_quant_type=\"nf4\", \n",
    "        bnb_4bit_compute_dtype=torch.float16,\n",
    "        bnb_4bit_use_double_quant=True\n",
    "    )\n",
    "    model = AutoModelForCausalLM.from_pretrained(\n",
    "        model_id, \n",
    "        quantization_config=bnb_config, \n",
    "        device_map=\"auto\"\n",
    "    )\n",
    "    model.config.use_cache = False\n",
    "    model.config.pretraining_tp = 1\n",
    "    return model, tokenizer\n",
    "\n",
    "model, tokenizer = get_model_and_tokenizer(model_id)"
   ]
  },
  {
   "cell_type": "code",
   "execution_count": null,
   "metadata": {},
   "source": [
    "def generate_response(user_input):\n",
    "    prompt = formatted_prompt(user_input)\n",
    "    generation_config = GenerationConfig(\n",
    "        penalty_alpha=0.6,\n",
    "        do_sample=True,\n",
    "        top_k=5,\n",
    "        temperature=0.5,\n",
    "        repetition_penalty=1.2,\n",
    "        max_new_tokens=60,\n",
    "        pad_token_id=tokenizer.eos_token_id\n",
    "    )\n",
    "    \n",
    "    start_time = perf_counter()\n",
    "    inputs = tokenizer(prompt, return_tensors=\"pt\").to('cuda')\n",
    "    outputs = model.generate(**inputs, generation_config=generation_config)\n",
    "    response = tokenizer.decode(outputs[0], skip_special_tokens=True)\n",
    "    output_time = perf_counter() - start_time\n",
    "    \n",
    "    print(response)\n",
    "    print(f\"Time taken for inference: {round(output_time,2)} seconds\")\n",
    "    return response"
   ]
  },
  {
   "cell_type": "code",
   "execution_count": null,
   "metadata": {},
   "source": [
    "# Test generation before training\n",
    "test_prompt = \"What is machine learning?\"\n",
    "print(\"\\nTesting generation before training:\")\n",
    "generate_response(test_prompt)"
   ]
  },
  {
   "cell_type": "code",
   "execution_count": null,
   "metadata": {},
   "source": [
    "# Setup FSDP\n",
    "def setup_fsdp_model(model):\n",
    "    from transformers.models.llama.modeling_llama import LlamaDecoderLayer\n",
    "    \n",
    "    mp_policy = MixedPrecision(\n",
    "        param_dtype=torch.float16,\n",
    "        reduce_dtype=torch.float16,\n",
    "        buffer_dtype=torch.float16\n",
    "    )\n",
    "    \n",
    "    wrap_policy = transformer_auto_wrap_policy(\n",
    "        transformer_layer_cls={LlamaDecoderLayer}\n",
    "    )\n",
    "    \n",
    "    model = FSDP(\n",
    "        model,\n",
    "        auto_wrap_policy=wrap_policy,\n",
    "        mixed_precision=mp_policy,\n",
    "        sharding_strategy=ShardingStrategy.FULL_SHARD,\n",
    "        backward_prefetch=BackwardPrefetch.BACKWARD_PRE,\n",
    "        cpu_offload=CPUOffload(offload_params=True),\n",
    "        limit_all_gathers=True,\n",
    "        use_orig_params=True,\n",
    "    )\n",
    "    \n",
    "    return model"
   ]
  },
  {
   "cell_type": "code",
   "execution_count": null,
   "metadata": {},
   "source": [
    "# Prepare model for training\n",
    "model = prepare_model_for_kbit_training(model)\n",
    "\n",
    "# LoRA config\n",
    "lora_config = LoraConfig(\n",
    "    r=8,\n",
    "    lora_alpha=32,\n",
    "    target_modules=[\"q_proj\", \"k_proj\", \"v_proj\", \"o_proj\"],\n",
    "    lora_dropout=0.05,\n",
    "    bias=\"none\",\n",
    "    task_type=\"CAUSAL_LM\"\n",
    ")\n",
    "\n",
    "# Apply LoRA\n",
    "model = get_peft_model(model, lora_config)\n",
    "\n",
    "# Setup FSDP\n",
    "model = setup_fsdp_model(model)"
   ]
  },
  {
   "cell_type": "code",
   "execution_count": null,
   "metadata": {},
   "source": [
    "# Training setup\n",
    "dataset = load_dataset(\"tatsu-lab/alpaca\")\n",
    "\n",
    "training_args = TrainingArguments(\n",
    "    output_dir=\"./llama3-qlora-fsdp\",\n",
    "    num_train_epochs=3,\n",
    "    per_device_train_batch_size=4,\n",
    "    gradient_accumulation_steps=4,\n",
    "    learning_rate=2e-4,\n",
    "    bf16=True,\n",
    "    logging_steps=1,\n",
    "    save_strategy=\"epoch\",\n",
    "    save_total_limit=3,\n",
    "    ddp_backend=\"nccl\",\n",
    "    gradient_checkpointing=True,\n",
    "    report_to=\"wandb\"\n",
    ")\n",
    "\n",
    "trainer = Trainer(\n",
    "    model=model,\n",
    "    args=training_args,\n",
    "    train_dataset=dataset[\"train\"],\n",
    "    tokenizer=tokenizer,\n",
    ")"
   ]
  },
  {
   "cell_type": "code",
   "execution_count": null,
   "metadata": {},
   "source": [
    "# Train\n",
    "trainer.train()"
   ]
  },
  {
   "cell_type": "code",
   "execution_count": null,
   "metadata": {},
   "source": [
    "# Test generation after training\n",
    "test_prompt = \"What is machine learning?\"\n",
    "print(\"\\nTesting generation after training:\")\n",
    "generate_response(test_prompt)"
   ]
  },
  {
   "cell_type": "code",
   "execution_count": null,
   "metadata": {},
   "source": [
    "# Save model\n",
    "trainer.save_model()"
   ]
  }
 ],
 "metadata": {
  "kernelspec": {
   "display_name": "Python 3",
   "language": "python",
   "name": "python3"
  },
  "language_info": {
   "name": "python",
   "version": "3.10.0"
  }
 },
 "nbformat": 4,
 "nbformat_minor": 2
}
